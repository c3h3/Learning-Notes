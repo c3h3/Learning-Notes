{
 "metadata": {
  "name": ""
 },
 "nbformat": 3,
 "nbformat_minor": 0,
 "worksheets": [
  {
   "cells": [
    {
     "cell_type": "markdown",
     "metadata": {},
     "source": [
      "# Matplotlib \u4e2d\u6587\u5b57\u578b\u986f\u793a\n",
      "\n",
      "-  ## http://wiki.ubuntu.com.cn/%E5%AD%97%E4%BD%93#.E4.B8.AD.E6.96.87\n",
      "-  ## http://blog.csdn.net/yuyuyu0012586/article/details/12590743\n",
      "-  ## http://www.cnblogs.com/skabyy/p/3461229.html\n",
      "-  ## http://blog.chinaunix.net/uid-26611383-id-3521248.html\n",
      "-  ## http://stackoverflow.com/questions/12322738/how-do-i-change-the-axis-tick-font-in-a-matplotlib-plot-when-rendering-using-lat\n",
      "-  ## http://stackoverflow.com/questions/3899980/how-to-change-the-font-size-on-a-matplotlib-plot"
     ]
    },
    {
     "cell_type": "code",
     "collapsed": false,
     "input": [
      "%matplotlib inline"
     ],
     "language": "python",
     "metadata": {},
     "outputs": [],
     "prompt_number": 1
    },
    {
     "cell_type": "code",
     "collapsed": false,
     "input": [
      "import matplotlib.pylab as pylab\n",
      "from matplotlib.font_manager import FontProperties\n",
      "font = FontProperties(fname=\"/usr/share/fonts/truetype/wqy/wqy-zenhei.ttc\", size = 14)\n",
      "\n",
      "pylab.rcParams['figure.figsize'] = 16, 12"
     ],
     "language": "python",
     "metadata": {},
     "outputs": [],
     "prompt_number": 3
    },
    {
     "cell_type": "code",
     "collapsed": false,
     "input": [
      "import numpy as np"
     ],
     "language": "python",
     "metadata": {},
     "outputs": [],
     "prompt_number": 4
    },
    {
     "cell_type": "code",
     "collapsed": false,
     "input": [
      "x = np.linspace(0,1,101)\n",
      "\n",
      "fig, ax = pylab.subplots(figsize=(10, 4))\n",
      "ax.plot(x,np.sin(2*np.pi*x))\n",
      "ax.set_xlabel(u\"\u9019\u662fx\u8ef8\",fontproperties = font)\n",
      "ax.set_ylabel(u\"\u9019\u662fy\u8ef8\",fontproperties = font)\n",
      "\n",
      "x_ticket = np.linspace(0,1,5)\n",
      "ax.set_xticks(x_ticket)\n",
      "ax.set_xticklabels(map(lambda xx:u\"\u9ede\" + unicode(xx),x_ticket),fontproperties = font)\n",
      "\n",
      "\n",
      "\n"
     ],
     "language": "python",
     "metadata": {},
     "outputs": [
      {
       "metadata": {},
       "output_type": "pyout",
       "prompt_number": 17,
       "text": [
        "[<matplotlib.text.Text at 0x512a290>,\n",
        " <matplotlib.text.Text at 0x4fd9d10>,\n",
        " <matplotlib.text.Text at 0x5317410>,\n",
        " <matplotlib.text.Text at 0x4ac9b10>,\n",
        " <matplotlib.text.Text at 0x4fe5050>]"
       ]
      },
      {
       "metadata": {},
       "output_type": "display_data",
       "png": "[encoded data removed]",
       "text": [
        "<matplotlib.figure.Figure at 0x5144390>"
       ]
      }
     ],
     "prompt_number": 17
    },
    {
     "cell_type": "code",
     "collapsed": false,
     "input": [],
     "language": "python",
     "metadata": {},
     "outputs": []
    },
    {
     "cell_type": "code",
     "collapsed": false,
     "input": [],
     "language": "python",
     "metadata": {},
     "outputs": []
    },
    {
     "cell_type": "code",
     "collapsed": false,
     "input": [],
     "language": "python",
     "metadata": {},
     "outputs": []
    },
    {
     "cell_type": "code",
     "collapsed": false,
     "input": [
      "from pymongo import MongoClient\n",
      "mongo_client = MongoClient()\n",
      "ptt_crawler_db = mongo_client.ptt_crawler_db\n",
      "ptt_article = ptt_crawler_db.ptt_article\n",
      "ptt_article_push = ptt_crawler_db.ptt_article_push"
     ],
     "language": "python",
     "metadata": {},
     "outputs": [],
     "prompt_number": 3
    },
    {
     "cell_type": "code",
     "collapsed": false,
     "input": [
      "import pandas as pd \n"
     ],
     "language": "python",
     "metadata": {},
     "outputs": [],
     "prompt_number": 4
    },
    {
     "cell_type": "code",
     "collapsed": false,
     "input": [
      "r_lang_articles = ptt_article.find({\"Board\" : \"R_Language\"})\n",
      "r_lang_articles_df = pd.DataFrame(list(r_lang_articles))"
     ],
     "language": "python",
     "metadata": {},
     "outputs": [],
     "prompt_number": 5
    },
    {
     "cell_type": "code",
     "collapsed": false,
     "input": [
      "r_lang_articles_df.head()"
     ],
     "language": "python",
     "metadata": {},
     "outputs": [
      {
       "html": [
        "<div style=\"max-height:1000px;max-width:1500px;overflow:auto;\">\n",
        "<table border=\"1\" class=\"dataframe\">\n",
        "  <thead>\n",
        "    <tr style=\"text-align: right;\">\n",
        "      <th></th>\n",
        "      <th>Board</th>\n",
        "      <th>_id</th>\n",
        "      <th>text</th>\n",
        "      <th>time</th>\n",
        "      <th>title</th>\n",
        "      <th>url</th>\n",
        "      <th>user</th>\n",
        "      <th>user_id</th>\n",
        "      <th>user_nickname</th>\n",
        "    </tr>\n",
        "  </thead>\n",
        "  <tbody>\n",
        "    <tr>\n",
        "      <th>0</th>\n",
        "      <td> R_Language</td>\n",
        "      <td> 52ef5d5d74798d48e83db759</td>\n",
        "      <td>   \\n\\n\u8acb\u554f\u4e00\u4e0b\\n\u6211\u662fR\u7684\u521d\u5b78\u8005\\n\u4e5f\u6c92\u6709\u7d71\u8a08\u8207\u6578\u5b78\u65b9\u9762\u7684\u57fa\u790e\\n\u4e0b\u9762\u9023\u7d50\u662f\u6211\u4f7f\u7528go...</td>\n",
        "      <td> Wed Jan 22 18:56:28 2014</td>\n",
        "      <td>                [\u554f\u984c] \u54c1\u8cea\u8207\u58d3\u7e2e\u7387\u6700\u5e73\u8861\u7684\u4f4d\u7f6e</td>\n",
        "      <td> http://www.ptt.cc/bbs/R_Language/M.1390388190....</td>\n",
        "      <td> ireullin (raison detre)</td>\n",
        "      <td> ireullin</td>\n",
        "      <td>  raiso</td>\n",
        "    </tr>\n",
        "    <tr>\n",
        "      <th>1</th>\n",
        "      <td> R_Language</td>\n",
        "      <td> 52ef5d5d74798d48e73db759</td>\n",
        "      <td>   \\n[\u95dc\u9375\u5b57]: R, Encoding\\n\\n[\u51fa\u8655]: http://www.you...</td>\n",
        "      <td> Thu Jan 23 00:42:20 2014</td>\n",
        "      <td>                      [\u5206\u4eab] R \u7de8\u78bc\u7c21\u4ecb</td>\n",
        "      <td> http://www.ptt.cc/bbs/R_Language/M.1390408943....</td>\n",
        "      <td>        Wush978 (\u62d2\u770b\u4f4e\u8cea\u5a92\u9ad4)</td>\n",
        "      <td>  Wush978</td>\n",
        "      <td> \u62d2\u770b\u4f4e\u8cea\u5a92\u9ad4</td>\n",
        "    </tr>\n",
        "    <tr>\n",
        "      <th>2</th>\n",
        "      <td> R_Language</td>\n",
        "      <td> 52ef5d5e74798d48ea3db759</td>\n",
        "      <td>   \\n:\\n: \u53e6\u5916\u8acb\u554flist\u8207array\u7684\u5dee\u5225\u662f?:\\n\u4e00\u822c\u4f86\u8aaa\uff0cR \u7684\u6578\u503c\u7269\u4ef6\u90fd\u662f\u5411...</td>\n",
        "      <td> Wed Jan 29 19:06:15 2014</td>\n",
        "      <td> Re: [\u554f\u984c] \u5c07\u591a\u500bdata frame\u653e\u5165list\u9032\u884c\u64cd\u4f5c</td>\n",
        "      <td> http://www.ptt.cc/bbs/R_Language/M.1390993579....</td>\n",
        "      <td>        Wush978 (\u62d2\u770b\u4f4e\u8cea\u5a92\u9ad4)</td>\n",
        "      <td>  Wush978</td>\n",
        "      <td> \u62d2\u770b\u4f4e\u8cea\u5a92\u9ad4</td>\n",
        "    </tr>\n",
        "    <tr>\n",
        "      <th>3</th>\n",
        "      <td> R_Language</td>\n",
        "      <td> 52ef5d6074798d48eb3db759</td>\n",
        "      <td>   \\n\\n[\u554f\u984c\u985e\u578b]:\\n\u7a0b\u5f0f\u8aee\u8a62(\u6211\u60f3\u7528R \u505a\u67d0\u4ef6\u4e8b\u60c5\uff0c\u4f46\u662f\u6211\u4e0d\u77e5\u9053\u8981\u600e\u9ebc\u7528R \u5beb\u51fa\u4f86...</td>\n",
        "      <td> Sat Feb  1 18:00:22 2014</td>\n",
        "      <td>    [\u554f\u984c] \u5982\u4f55\u5c0d\u5169\u500b data.frame \u505a Join\uff1f</td>\n",
        "      <td> http://www.ptt.cc/bbs/R_Language/M.1391248826....</td>\n",
        "      <td>         kusoayan (Bert)</td>\n",
        "      <td> kusoayan</td>\n",
        "      <td>   Bert</td>\n",
        "    </tr>\n",
        "    <tr>\n",
        "      <th>4</th>\n",
        "      <td> R_Language</td>\n",
        "      <td> 52ef5d6274798d48e93db759</td>\n",
        "      <td>   \\n\u5f88\u62b1\u6b49\u53c8\u4f86\u554f\u4e00\u4e9b\u53ef\u80fd\u662f\u5f88\u57fa\u790e\u7684\u554f\u984c\\n\u6211\u6709\u4e94\u5f35\u76f8\u540c\u683c\u5f0f\u7684csv\u8868\\n\u6211\u60f3\u628a\u4ed6\u8b80\u9032\u4f86\u4e4b...</td>\n",
        "      <td> Wed Jan 29 14:25:27 2014</td>\n",
        "      <td>     [\u554f\u984c] \u5c07\u591a\u500bdata frame\u653e\u5165list\u9032\u884c\u64cd\u4f5c</td>\n",
        "      <td> http://www.ptt.cc/bbs/R_Language/M.1390976730....</td>\n",
        "      <td> ireullin (raison detre)</td>\n",
        "      <td> ireullin</td>\n",
        "      <td>  raiso</td>\n",
        "    </tr>\n",
        "  </tbody>\n",
        "</table>\n",
        "<p>5 rows \u00d7 9 columns</p>\n",
        "</div>"
       ],
       "metadata": {},
       "output_type": "pyout",
       "prompt_number": 6,
       "text": [
        "        Board                       _id  \\\n",
        "0  R_Language  52ef5d5d74798d48e83db759   \n",
        "1  R_Language  52ef5d5d74798d48e73db759   \n",
        "2  R_Language  52ef5d5e74798d48ea3db759   \n",
        "3  R_Language  52ef5d6074798d48eb3db759   \n",
        "4  R_Language  52ef5d6274798d48e93db759   \n",
        "\n",
        "                                                text  \\\n",
        "0    \\n\\n\u8acb\u554f\u4e00\u4e0b\\n\u6211\u662fR\u7684\u521d\u5b78\u8005\\n\u4e5f\u6c92\u6709\u7d71\u8a08\u8207\u6578\u5b78\u65b9\u9762\u7684\u57fa\u790e\\n\u4e0b\u9762\u9023\u7d50\u662f\u6211\u4f7f\u7528go...   \n",
        "1    \\n[\u95dc\u9375\u5b57]: R, Encoding\\n\\n[\u51fa\u8655]: http://www.you...   \n",
        "2    \\n:\\n: \u53e6\u5916\u8acb\u554flist\u8207array\u7684\u5dee\u5225\u662f?:\\n\u4e00\u822c\u4f86\u8aaa\uff0cR \u7684\u6578\u503c\u7269\u4ef6\u90fd\u662f\u5411...   \n",
        "3    \\n\\n[\u554f\u984c\u985e\u578b]:\\n\u7a0b\u5f0f\u8aee\u8a62(\u6211\u60f3\u7528R \u505a\u67d0\u4ef6\u4e8b\u60c5\uff0c\u4f46\u662f\u6211\u4e0d\u77e5\u9053\u8981\u600e\u9ebc\u7528R \u5beb\u51fa\u4f86...   \n",
        "4    \\n\u5f88\u62b1\u6b49\u53c8\u4f86\u554f\u4e00\u4e9b\u53ef\u80fd\u662f\u5f88\u57fa\u790e\u7684\u554f\u984c\\n\u6211\u6709\u4e94\u5f35\u76f8\u540c\u683c\u5f0f\u7684csv\u8868\\n\u6211\u60f3\u628a\u4ed6\u8b80\u9032\u4f86\u4e4b...   \n",
        "\n",
        "                       time                             title  \\\n",
        "0  Wed Jan 22 18:56:28 2014                 [\u554f\u984c] \u54c1\u8cea\u8207\u58d3\u7e2e\u7387\u6700\u5e73\u8861\u7684\u4f4d\u7f6e   \n",
        "1  Thu Jan 23 00:42:20 2014                       [\u5206\u4eab] R \u7de8\u78bc\u7c21\u4ecb   \n",
        "2  Wed Jan 29 19:06:15 2014  Re: [\u554f\u984c] \u5c07\u591a\u500bdata frame\u653e\u5165list\u9032\u884c\u64cd\u4f5c   \n",
        "3  Sat Feb  1 18:00:22 2014     [\u554f\u984c] \u5982\u4f55\u5c0d\u5169\u500b data.frame \u505a Join\uff1f   \n",
        "4  Wed Jan 29 14:25:27 2014      [\u554f\u984c] \u5c07\u591a\u500bdata frame\u653e\u5165list\u9032\u884c\u64cd\u4f5c   \n",
        "\n",
        "                                                 url                     user  \\\n",
        "0  http://www.ptt.cc/bbs/R_Language/M.1390388190....  ireullin (raison detre)   \n",
        "1  http://www.ptt.cc/bbs/R_Language/M.1390408943....         Wush978 (\u62d2\u770b\u4f4e\u8cea\u5a92\u9ad4)   \n",
        "2  http://www.ptt.cc/bbs/R_Language/M.1390993579....         Wush978 (\u62d2\u770b\u4f4e\u8cea\u5a92\u9ad4)   \n",
        "3  http://www.ptt.cc/bbs/R_Language/M.1391248826....          kusoayan (Bert)   \n",
        "4  http://www.ptt.cc/bbs/R_Language/M.1390976730....  ireullin (raison detre)   \n",
        "\n",
        "    user_id user_nickname  \n",
        "0  ireullin         raiso  \n",
        "1   Wush978        \u62d2\u770b\u4f4e\u8cea\u5a92\u9ad4  \n",
        "2   Wush978        \u62d2\u770b\u4f4e\u8cea\u5a92\u9ad4  \n",
        "3  kusoayan          Bert  \n",
        "4  ireullin         raiso  \n",
        "\n",
        "[5 rows x 9 columns]"
       ]
      }
     ],
     "prompt_number": 6
    },
    {
     "cell_type": "code",
     "collapsed": false,
     "input": [
      "print r_lang_articles_df[\"text\"][4]"
     ],
     "language": "python",
     "metadata": {},
     "outputs": [
      {
       "output_type": "stream",
       "stream": "stdout",
       "text": [
        "  \n",
        "\u5f88\u62b1\u6b49\u53c8\u4f86\u554f\u4e00\u4e9b\u53ef\u80fd\u662f\u5f88\u57fa\u790e\u7684\u554f\u984c\n",
        "\u6211\u6709\u4e94\u5f35\u76f8\u540c\u683c\u5f0f\u7684csv\u8868\n",
        "\u6211\u60f3\u628a\u4ed6\u8b80\u9032\u4f86\u4e4b\u8a08\u7b97\u4e4b\u5f8c\n",
        "\u5728\u6bcf\u5f35\u8868\u7684\u6700\u5f8c\u591a\u52a0\u5169\u500bcolumns\n",
        "\n",
        "\u6240\u4ee5\u6211\u5c07\u4ed6\u653e\u9032\u4e00\u500b list ( \u6211\u539f\u672c\u60f3\u7528array,\u53ef\u662f\u597d\u50cf\u4e0d\u884c )\n",
        "\u7136\u5f8c\u7528\u4e00\u500b\u8ff4\u5708\u53bb\u8655\u7406\u4ed6\n",
        "\u53ef\u662f\u6703\u51fa\u73fe\u4ee5\u4e0b\u7684\u8b66\u544a\n",
        "Warning messages:\n",
        "1: In df[i]$difftime <- difftime(dtTime, dtBase) :\n",
        "  number of items to replace is not a multiple of replacement length\n",
        "\n",
        "\u800c\u4e14\u6bcf\u5f35\u8868\u597d\u50cf\u90fd\u6c92\u6709\u88ab\u591a\u52a0columns\n",
        "\u8acb\u554f\u6211\u662f\u6709\u90a3\u88e1\u5f04\u932f\u4e86\u55ce\n",
        "\n",
        "\u53e6\u5916\u8acb\u554flist\u8207array\u7684\u5dee\u5225\u662f?\n",
        "\n",
        "\n",
        "df = list(\n",
        "  read.csv(file='worker05.csv', header=TRUE),\n",
        "  read.csv(file='worker10.csv', header=TRUE),\n",
        "  read.csv(file='worker15.csv', header=TRUE),\n",
        "  read.csv(file='worker20.csv', header=TRUE),\n",
        "  read.csv(file='worker25.csv', header=TRUE)\n",
        ")\n",
        "\n",
        "\n",
        "for(i in 1:length(df))\n",
        "{\n",
        "  tmp <- substring( as.character(df[i]$time), 7,14)\n",
        "  dtTime <- c(strptime( tmp, format=\"%H:%M:%S\"))\n",
        "  dtBase <- rep(dtTime[1], length(dtTime))\n",
        "\n",
        "  # \u586b\u5165\u8a08\u7b97\u5f8c\u7684\u8cc7\u6599\n",
        "  df[i]$spentime <- difftime(dtTime, dtBase)\n",
        "  df[i]$usage <- 100 - c(df[i]$idl)\n",
        "}\n",
        "\n",
        "\n",
        "\n",
        "--\n",
        "\u203b \u767c\u4fe1\u7ad9: \u6279\u8e22\u8e22\u5be6\u696d\u574a(ptt.cc)\u25c6 From: 111.250.26.236\n",
        "\u2192 ching0629 :\u6211\u7684\u7fd2\u6163\u662f\uff0c\u5148\u6307\u5b9a\u4e00\u500b\u7a7alist\uff1a df=list(NULL) 01/29 15:11\u2192 ching0629 :\u63a5\u8457 df[[i]]<-read.csv... \u7b49 01/29 15:12\u2192 ching0629 :\u5594\u5594\uff0c\u61c9\u8a72\u662fdf[[i]]\uff0c\u4e0d\u662fdf[i]\u3002 01/29 15:14\u2192 ching0629 :\u7136\u5f8c\u78ba\u8a8d\u4e00\u4e0b\u8b80\u9032\u4f86\u7684\u4e0d\u662fmatrix\u800c\u662fdataframe 01/29 15:14\u63a8 Wush978 :\u4f60\u8981\u505a\u7684\u4e8b\u60c5\u6c92\u554f\u984c\uff0c\u53ef\u884c 01/29 15:56\u63a8 Wush978 :\u554f\u984c\u61c9\u8a72\u662fdifftime\u4e4b\u5f8c\u9577\u5ea6\u6539\u8b8a\uff0c\u9020\u6210\u4e0d\u4e00\u81f4 01/29 15:57\u63a8 Wush978 :data.frame\u8981\u6c42\u6240\u6709column\u9577\u5ea6\u4e00\u81f4 01/29 16:11\u2192 ireullin :\u53ef\u4ee5\u4e86,\u662f [[i]]\u7684\u554f\u984c,\u6211\u6c92\u6ce8\u610f\u5230\u4e0d\u597d\u610f\u601d 01/29 18:07\u2192 ireullin :R\u7248\u9084\u771f\u662f\u6eab\u6696\u7684\u677f\u963f,\u71b1\u5fc3\u7684\u4eba\u5f88\u591a...\u8b1d\u8b1d\u56c9 01/29 18:08\n"
       ]
      }
     ],
     "prompt_number": 7
    },
    {
     "cell_type": "code",
     "collapsed": false,
     "input": [
      "import jieba\n",
      "import jieba.analyse"
     ],
     "language": "python",
     "metadata": {},
     "outputs": [],
     "prompt_number": 8
    },
    {
     "cell_type": "code",
     "collapsed": false,
     "input": [
      "print \"/ \".join(jieba.cut(r_lang_articles_df[\"text\"][2]))"
     ],
     "language": "python",
     "metadata": {},
     "outputs": [
      {
       "output_type": "stream",
       "stream": "stderr",
       "text": [
        "Building Trie..., from /usr/local/lib/python2.7/dist-packages/jieba/dict.txt\n",
        "loading model from cache /tmp/jieba.cache\n",
        "loading model cost "
       ]
      },
      {
       "output_type": "stream",
       "stream": "stdout",
       "text": [
        " /  / \n",
        "/ :/ \n",
        "/ :/  / \u53e6\u5916/ \u8acb\u554f/ list/ \u8207/ array/ \u7684/ \u5dee\u5225/ \u662f/ ?/ :/ \n",
        "/ \u4e00\u822c/ \u4f86/ \u8aaa/ \uff0c/ R/  / \u7684/ \u6578\u503c/ \u7269\u4ef6/ \u90fd/ \u662f/ \u5411\u91cf/ \uff0c/ \n",
        "/ \n",
        "/ ex/ :/ \n",
        "/ \n",
        "/ `/ `/ `/ \n",
        "/ x/  / </ -/  / pi/ \n",
        "/ show/ (/ x/ )/ \n",
        "/ length/ (/ x/ )/ \n",
        "/ dim/ (/ x/ )/ \n",
        "/ `/ `/ `/ \n",
        "/ \n",
        "/ \u9019/ \u8868\u793a/ x/  / \u662f/ \u4e00\u500b/ \u9577/ \u5ea6/ 1/  / \u7684/ \u5411\u91cf/ \u3002/ \n",
        "/ \u5411\u91cf/ \u52a0\u4e0a/ dimension/ \u7684/ \u6982\u5ff5/ \u5f8c/ \u5c31/ \u8b8a\u6210/ array/ \n",
        "/ \n",
        "/ ex/ :/ \n",
        "/ \n",
        "/ `/ `/ `/ \n",
        "/ dim/ (/ x/ )/  / </ -/  / c/ (/ 1/ ,/ 1/ )/ \n",
        "/ show/ (/ x/ )/ \n",
        "/ class/ (/ x/ )/ \n",
        "/ dim/ (/ x/ )/  / </ -/  / c/ (/ 1/ ,/ 1/ ,/ 1/ )/ \n",
        "/ show/ (/ x/ )/ \n",
        "/ class/ (/ x/ )/ \n",
        "/ dim/ (/ x/ )/ \n",
        "/ `/ `/ `/ \n",
        "/ \n",
        "/ \u4ee5/ \u4e0a\u8ff0/ \u70ba\u4f8b/ \uff0c/ x/  / \u662f/ \u500b/ \u6578\u503c/ \u5411\u91cf/ \uff0c/ \u800c/ matrix/ ,/  / array/ \u672c\u8cea/ \u4e0a/ \u4e5f/ \u662f/ \u6578\u503c/ \u5411\u91cf/ \u3002/ \n",
        "/ \u4f60/ \u53ea\u8981/ \u62ff\u6389/ dim/  / \u4e4b\u5f8c\u5c31\u8b8a/ \u56de\u53bb/ \u4e86/ \u3002/ \n",
        "/ \n",
        "/ \u4f46\u662f/  / list/  / \u4e0d\u4e00\u6a23/ \uff0c/ \n",
        "/ \n",
        "/ list/  / \u662f/ \u88dd\u8457/ \u4e00\u5806/ R/ \u7269\u4ef6/ \u7684/ \u5411\u91cf/ \u3002/ \u6240\u4ee5/ list/ \u88e1\u9762/ \u53ef\u4ee5/ \u653e/ \u4efb\u4f55/ \u6771\u897f/ \uff0c/ \u5982/ \uff1a/ \n",
        "/ \n",
        "/ -/  / \u6578\u503c/ \n",
        "/ -/  / matrix/ \n",
        "/ -/  / array/ \n",
        "/ -/  / data/ ./ frame/  / (/  / ps/ ./  / data/ ./ frame/ \u7684/ \u672c\u8cea/ \u662f/  / list/ ,/  / \u548c/ array/ // matrix/ \u5dee\u5225/ \u5f88\u591a/  / )/ \n",
        "/ -/  / list/ \n",
        "/ -/  / \u51fd\u6578/ \n",
        "/ \n",
        "/ ex/ :/ \n",
        "/ \n",
        "/ `/ `/ `/ \n",
        "/ x/  / </ -/  / list/ (/ )/ \n",
        "/ x/ [/ [/ 1/ ]/ ]/  / </ -/  / pi/ \n",
        "/ x/ [/ [/ 2/ ]/ ]/  / </ -/  / iris/ \n",
        "/ x/ [/ [/ 3/ ]/ ]/  / </ -/  / Sys/ ./ time/ \n",
        "/ x/ [/ [/ 3/ ]/ ]/ (/ )/ \n",
        "/ `/ `/ `/ \n",
        "/ \n",
        "/ list/  / \u548c/  / \u4e00\u822c/ \u7684/ \u5411\u91cf/ \u6700\u5927/ \u7684/ \u4e0d\u540c/ \uff0c/ \u5c31/ \u5728/ \u65bc/ list/ \u53ef\u4ee5/ \u88dd\u4e0d\u4e00\u6a23/ \u7684/ \u7269\u4ef6/ \u3002/ \n",
        "/ \n",
        "/ \u4ee5/ \u5b57\u4e32/ \u548c/ \u6578\u503c/ \u70ba\u4f8b/ \uff0c/ \u4f60/ \u6c92/ \u8fa6\u6cd5/ \u8b93/ \u4e00\u500b/ \u5411\u91cf/ \u540c\u6642/ \u6709/ \u6578\u503c/ \u548c/ \u5b57\u4e32/ \uff1a/ \n",
        "/ \n",
        "/ `/ `/ `/ \n",
        "/ x/  / </ -/  / 1/ :/ 10/ \n",
        "/ show/ (/ x/ )/ \n",
        "/ x/ [/ 10/ ]/  / </ -/  / \"/ 10/ \"/ \n",
        "/ show/ (/ x/ )/ \n",
        "/ `/ `/ `/ \n",
        "/ \n",
        "/ \u540c\u7406/ \uff0c/ matrix/ \u548c/ array/ \u4e5f/ \u6709/ \u540c\u6a23/ \u7684/ \u72c0\u6cc1/ \n",
        "/ \n",
        "/ `/ `/ `/ \n",
        "/ x/  / </ -/  / matrix/ (/ 1/ :/ 10/ ,/  / 5/ ,/  / 2/ )/ \n",
        "/ show/ (/ x/ )/ \n",
        "/ x/ [/ 1/ ,/ 2/ ]/  / </ -/  / \"/ 6/ \"/ \n",
        "/ show/ (/ x/ )/ \n",
        "/ `/ `/ `/ \n",
        "/ \n",
        "/ \u4f46\u662f/ list/ \u6c92\u6709/ \u9019\u6a23/ \u7684/ \u9650\u5236/ \uff1a/ \n",
        "/ \n",
        "/ `/ `/ `/ \n",
        "/ class/ (/ iris/ [/ ,/ 1/ ]/ )/ \n",
        "/ class/ (/ iris/ [/ ,/ 5/ ]/ )/ \n",
        "/ `/ `/ `/ \n",
        "/ \n",
        "/ \u9019\u4e5f/ \u662f/ \u70ba/ \u4ec0\u9ebc/ data/ ./ frame/ \u7684/ \u5e95\u5c64/ \u662f/ list/ ,/  / \u800c/ \u4e0d\u80fd/ \u7528/ \u4e00\u822c/ \u7684/ \u5411\u91cf/ \u7684/ \u7de3/ \u6545/ \u3002/ \n",
        "/ \n",
        "/ -/ -/ \n",
        "/ \u203b/  / \u767c\u4fe1/ \u7ad9/ :/  / \u6279/ \u8e22\u8e22/ \u5be6\u696d\u574a/ (/ ptt/ ./ cc/ )/ \u25c6/  / From/ :/  / 61.228/ ./ 70.185/ \n",
        "/ \u2192/  / clickhere/  / :/ \u8a3b/ :/  / list/ \u548c/ data/ ./ frame/ \u672c\u8eab/ \u662f/ \u5411\u91cf/ ./  / 01/ // 29/  / 22/ :/ 57\n"
       ]
      },
      {
       "output_type": "stream",
       "stream": "stderr",
       "text": [
        " 1.08668398857 seconds.\n",
        "Trie has been built succesfully.\n"
       ]
      }
     ],
     "prompt_number": 9
    },
    {
     "cell_type": "code",
     "collapsed": false,
     "input": [
      "print \"/ \".join(jieba.analyse.extract_tags(r_lang_articles_df[\"text\"][2]))"
     ],
     "language": "python",
     "metadata": {},
     "outputs": [
      {
       "output_type": "stream",
       "stream": "stdout",
       "text": [
        "list/ \u5411\u91cf/ show/ \u6578\u503c/ array/ matrix/ dim/ frame/ data/ class/ 10/ iris/ ex/ \u7269\u4ef6/ \u70ba\u4f8b/ \u672c\u8cea/ \u5dee\u5225/ \u4e00\u500b/ pi/ \u5b57\u4e32\n"
       ]
      }
     ],
     "prompt_number": 10
    },
    {
     "cell_type": "code",
     "collapsed": false,
     "input": [
      "import nltk"
     ],
     "language": "python",
     "metadata": {},
     "outputs": [],
     "prompt_number": 11
    },
    {
     "cell_type": "code",
     "collapsed": false,
     "input": [
      "map(lambda xx:xx.encode(\"utf-8\", \"replace\"),jieba.analyse.extract_tags(r_lang_articles_df[\"text\"][0]))"
     ],
     "language": "python",
     "metadata": {},
     "outputs": [
      {
       "metadata": {},
       "output_type": "pyout",
       "prompt_number": 12,
       "text": [
        "['gm',\n",
        " 'gd',\n",
        " '...',\n",
        " '\\xe5\\xbe\\xae\\xe5\\x88\\x86',\n",
        " '\\xe8\\xab\\x8b\\xe5\\x95\\x8f',\n",
        " '\\xe5\\xa3\\x93\\xe7\\xb8\\xae\\xe7\\x8e\\x87',\n",
        " '\\xe5\\x93\\x81\\xe8\\xb3\\xaa',\n",
        " 'size05',\n",
        " 'num',\n",
        " 'frame',\n",
        " 'dfgm',\n",
        " 'data',\n",
        " 'cc',\n",
        " '0.0221',\n",
        " '\\xe4\\xb8\\x8b\\xe9\\x9d\\xa2',\n",
        " '\\xe9\\x80\\xb2\\xe8\\xa1\\x8c',\n",
        " '\\xe9\\x80\\xa3\\xe7\\xb5\\x90',\n",
        " '\\xe9\\x80\\x99\\xe5\\x80\\x8b',\n",
        " '\\xe7\\xb5\\xb1\\xe8\\xa8\\x88',\n",
        " '\\xe7\\xb5\\xa6\\xe6\\x88\\x91']"
       ]
      }
     ],
     "prompt_number": 12
    },
    {
     "cell_type": "code",
     "collapsed": false,
     "input": [],
     "language": "python",
     "metadata": {},
     "outputs": [],
     "prompt_number": 12
    },
    {
     "cell_type": "code",
     "collapsed": false,
     "input": [
      "# test_nltk_text = nltk.Text(map(lambda xx:xx.encode(\"utf-8\", \"replace\"),jieba.analyse.extract_tags(r_lang_articles_df[\"text\"][0])))\n",
      "test_nltk_text = nltk.Text(map(lambda xx:xx.encode(\"utf-8\", \"replace\"),jieba.cut(r_lang_articles_df[\"text\"][0])))\n",
      "# test_nltk_text = nltk.Text(jieba.analyse.extract_tags(r_lang_articles_df[\"text\"][0]))\n",
      "test_vocab = test_nltk_text.vocab()\n",
      "print test_vocab.items()\n"
     ],
     "language": "python",
     "metadata": {},
     "outputs": [
      {
       "output_type": "stream",
       "stream": "stdout",
       "text": [
        "Building vocabulary index...\n",
        "[(' ', 65), ('\\n', 26), ('\\xe7\\x9a\\x84', 9), ('.', 8), (':', 6), ('\\xe6\\x98\\xaf', 6), ('\\xe8\\x88\\x87', 4), ('$', 3), ('...', 3), ('/', 3), ('gd', 3), ('gm', 3), ('\\xe5\\xbe\\xae\\xe5\\x88\\x86', 3), ('\\xe6\\x88\\x91', 3), ('(', 2), (')', 2), ('-', 2), ('0.0221', 2), ('1', 2), ('R', 2), ('cc', 2), ('data', 2), ('dfgm', 2), ('frame', 2), ('num', 2), ('q', 2), ('size05', 2), ('\\xe4\\xb8\\x8b\\xe9\\x9d\\xa2', 2), ('\\xe4\\xbd\\x8d\\xe7\\xbd\\xae', 2), ('\\xe5\\x93\\x81\\xe8\\xb3\\xaa', 2), ('\\xe5\\x9c\\xa8', 2), ('\\xe5\\xa3\\x93\\xe7\\xb8\\xae\\xe7\\x8e\\x87', 2), ('\\xe5\\xb0\\x8d', 2), ('\\xe6\\x98\\xaf\\xe5\\x90\\xa6', 2), ('\\xe6\\x9c\\x89', 2), ('\\xe8\\xab\\x8b\\xe5\\x95\\x8f', 2), ('0.0092', 1), ('0.00921', 1), ('0.00993', 1), ('0.01131', 1), ('0.01274', 1), ('0.0229', 1), ('0.0245', 1), ('0.0263', 1), ('10', 1), ('111.250', 1), ('2', 1), ('3', 1), ('30.123', 1), ('4', 1), ('5', 1), ('6', 1), ('7', 1), ('8', 1), ('9', 1), ('From', 1), ('gWY8', 1), ('googleVis', 1), ('http', 1), ('int', 1), ('ppt', 1), ('ptt', 1), ('str', 1), ('\\xe2\\x80\\xbb', 1), ('\\xe2\\x97\\x86', 1), ('\\xe4\\xb8\\x80\\xe4\\xb8\\x8b', 1), ('\\xe4\\xb8\\x80\\xe4\\xba\\x9b', 1), ('\\xe4\\xb8\\x80\\xe5\\x80\\x8b', 1), ('\\xe4\\xb8\\xad\\xe8\\xa6\\x81', 1), ('\\xe4\\xb9\\x9f', 1), ('\\xe4\\xbd\\xbf\\xe7\\x94\\xa8', 1), ('\\xe4\\xbe\\x86', 1), ('\\xe5\\x80\\xbc', 1), ('\\xe5\\x85\\xa9', 1), ('\\xe5\\x85\\xa9\\xe6\\xa2\\x9d\\xe7\\xb7\\x9a', 1), ('\\xe5\\x85\\xb6\\xe4\\xbb\\x96', 1), ('\\xe5\\x88\\x9d\\xe5\\xad\\xb8\\xe8\\x80\\x85', 1), ('\\xe5\\x8f\\x96', 1), ('\\xe5\\x8f\\xaf\\xe4\\xbb\\xa5', 1), ('\\xe5\\x9c\\x96\\xe8\\xa1\\xa8', 1), ('\\xe5\\x9f\\xba\\xe7\\xa4\\x8e', 1), ('\\xe5\\xa6\\x82\\xe4\\xbd\\x95', 1), ('\\xe5\\xa6\\x82\\xe6\\x9e\\x9c', 1), ('\\xe5\\xaf\\xa6\\xe6\\xa5\\xad\\xe5\\x9d\\x8a', 1), ('\\xe5\\xb9\\xb3\\xe8\\xa1\\xa1', 1), ('\\xe5\\xbb\\xba\\xe8\\xad\\xb0', 1), ('\\xe6\\x83\\xb3\\xe5\\x88\\xb0', 1), ('\\xe6\\x83\\xb3\\xe8\\xa6\\x81', 1), ('\\xe6\\x88\\x90', 1), ('\\xe6\\x89\\xb9', 1), ('\\xe6\\x89\\xbe\\xe5\\x87\\xba', 1), ('\\xe6\\x95\\xb8\\xe5\\xad\\xb8', 1), ('\\xe6\\x96\\x9c\\xe7\\x8e\\x87', 1), ('\\xe6\\x96\\xb9\\xe5\\xbc\\x8f', 1), ('\\xe6\\x96\\xb9\\xe9\\x9d\\xa2', 1), ('\\xe6\\x9c\\x80', 1), ('\\xe6\\xa2\\x9d\\xe7\\xb7\\x9a', 1), ('\\xe6\\xa8\\xa3\\xe5\\xad\\x90', 1), ('\\xe6\\xb2\\x92', 1), ('\\xe7\\x82\\xba', 1), ('\\xe7\\x95\\xab\\xe5\\x87\\xba', 1), ('\\xe7\\x99\\xbc\\xe4\\xbf\\xa1', 1), ('\\xe7\\x9b\\xae\\xe5\\x89\\x8d', 1), ('\\xe7\\xab\\x99', 1), ('\\xe7\\xb5\\xa6\\xe6\\x88\\x91', 1), ('\\xe7\\xb5\\xb1\\xe8\\xa8\\x88', 1), ('\\xe8\\xa6\\x81', 1), ('\\xe8\\xa9\\xb1', 1), ('\\xe8\\xb8\\xa2\\xe8\\xb8\\xa2', 1), ('\\xe9\\x80\\x99', 1), ('\\xe9\\x80\\x99\\xe5\\x80\\x8b', 1), ('\\xe9\\x80\\xa3\\xe7\\xb5\\x90', 1), ('\\xe9\\x80\\xb2\\xe8\\xa1\\x8c', 1), ('\\xe9\\x95\\xb7', 1)]\n"
       ]
      }
     ],
     "prompt_number": 13
    },
    {
     "cell_type": "code",
     "collapsed": false,
     "input": [],
     "language": "python",
     "metadata": {},
     "outputs": [],
     "prompt_number": 13
    },
    {
     "cell_type": "code",
     "collapsed": false,
     "input": [
      "map(lambda x:x.decode('utf8'),test_vocab.keys())"
     ],
     "language": "python",
     "metadata": {},
     "outputs": [
      {
       "metadata": {},
       "output_type": "pyout",
       "prompt_number": 14,
       "text": [
        "[u' ',\n",
        " u'\\n',\n",
        " u'\\u7684',\n",
        " u'.',\n",
        " u':',\n",
        " u'\\u662f',\n",
        " u'\\u8207',\n",
        " u'$',\n",
        " u'...',\n",
        " u'/',\n",
        " u'gd',\n",
        " u'gm',\n",
        " u'\\u5fae\\u5206',\n",
        " u'\\u6211',\n",
        " u'(',\n",
        " u')',\n",
        " u'-',\n",
        " u'0.0221',\n",
        " u'1',\n",
        " u'R',\n",
        " u'cc',\n",
        " u'data',\n",
        " u'dfgm',\n",
        " u'frame',\n",
        " u'num',\n",
        " u'q',\n",
        " u'size05',\n",
        " u'\\u4e0b\\u9762',\n",
        " u'\\u4f4d\\u7f6e',\n",
        " u'\\u54c1\\u8cea',\n",
        " u'\\u5728',\n",
        " u'\\u58d3\\u7e2e\\u7387',\n",
        " u'\\u5c0d',\n",
        " u'\\u662f\\u5426',\n",
        " u'\\u6709',\n",
        " u'\\u8acb\\u554f',\n",
        " u'0.0092',\n",
        " u'0.00921',\n",
        " u'0.00993',\n",
        " u'0.01131',\n",
        " u'0.01274',\n",
        " u'0.0229',\n",
        " u'0.0245',\n",
        " u'0.0263',\n",
        " u'10',\n",
        " u'111.250',\n",
        " u'2',\n",
        " u'3',\n",
        " u'30.123',\n",
        " u'4',\n",
        " u'5',\n",
        " u'6',\n",
        " u'7',\n",
        " u'8',\n",
        " u'9',\n",
        " u'From',\n",
        " u'gWY8',\n",
        " u'googleVis',\n",
        " u'http',\n",
        " u'int',\n",
        " u'ppt',\n",
        " u'ptt',\n",
        " u'str',\n",
        " u'\\u203b',\n",
        " u'\\u25c6',\n",
        " u'\\u4e00\\u4e0b',\n",
        " u'\\u4e00\\u4e9b',\n",
        " u'\\u4e00\\u500b',\n",
        " u'\\u4e2d\\u8981',\n",
        " u'\\u4e5f',\n",
        " u'\\u4f7f\\u7528',\n",
        " u'\\u4f86',\n",
        " u'\\u503c',\n",
        " u'\\u5169',\n",
        " u'\\u5169\\u689d\\u7dda',\n",
        " u'\\u5176\\u4ed6',\n",
        " u'\\u521d\\u5b78\\u8005',\n",
        " u'\\u53d6',\n",
        " u'\\u53ef\\u4ee5',\n",
        " u'\\u5716\\u8868',\n",
        " u'\\u57fa\\u790e',\n",
        " u'\\u5982\\u4f55',\n",
        " u'\\u5982\\u679c',\n",
        " u'\\u5be6\\u696d\\u574a',\n",
        " u'\\u5e73\\u8861',\n",
        " u'\\u5efa\\u8b70',\n",
        " u'\\u60f3\\u5230',\n",
        " u'\\u60f3\\u8981',\n",
        " u'\\u6210',\n",
        " u'\\u6279',\n",
        " u'\\u627e\\u51fa',\n",
        " u'\\u6578\\u5b78',\n",
        " u'\\u659c\\u7387',\n",
        " u'\\u65b9\\u5f0f',\n",
        " u'\\u65b9\\u9762',\n",
        " u'\\u6700',\n",
        " u'\\u689d\\u7dda',\n",
        " u'\\u6a23\\u5b50',\n",
        " u'\\u6c92',\n",
        " u'\\u70ba',\n",
        " u'\\u756b\\u51fa',\n",
        " u'\\u767c\\u4fe1',\n",
        " u'\\u76ee\\u524d',\n",
        " u'\\u7ad9',\n",
        " u'\\u7d66\\u6211',\n",
        " u'\\u7d71\\u8a08',\n",
        " u'\\u8981',\n",
        " u'\\u8a71',\n",
        " u'\\u8e22\\u8e22',\n",
        " u'\\u9019',\n",
        " u'\\u9019\\u500b',\n",
        " u'\\u9023\\u7d50',\n",
        " u'\\u9032\\u884c',\n",
        " u'\\u9577']"
       ]
      }
     ],
     "prompt_number": 14
    },
    {
     "cell_type": "code",
     "collapsed": false,
     "input": [
      "test_vocab.plot()"
     ],
     "language": "python",
     "metadata": {},
     "outputs": [
      {
       "metadata": {},
       "output_type": "display_data",
       "png": "[encoded data removed]",
       "text": [
        "<matplotlib.figure.Figure at 0x1661c210>"
       ]
      }
     ],
     "prompt_number": 15
    },
    {
     "cell_type": "code",
     "collapsed": false,
     "input": [
      "test_nltk_text = nltk.Text(map(lambda xx:xx.encode(\"utf-8\", \"replace\"),jieba.cut(r_lang_articles_df[\"text\"][0])))\n",
      "test_vocab = test_nltk_text.vocab()\n",
      "print test_vocab.items()"
     ],
     "language": "python",
     "metadata": {},
     "outputs": [
      {
       "output_type": "stream",
       "stream": "stdout",
       "text": [
        "Building vocabulary index...\n",
        "[(' ', 65), ('\\n', 26), ('\\xe7\\x9a\\x84', 9), ('.', 8), (':', 6), ('\\xe6\\x98\\xaf', 6), ('\\xe8\\x88\\x87', 4), ('$', 3), ('...', 3), ('/', 3), ('gd', 3), ('gm', 3), ('\\xe5\\xbe\\xae\\xe5\\x88\\x86', 3), ('\\xe6\\x88\\x91', 3), ('(', 2), (')', 2), ('-', 2), ('0.0221', 2), ('1', 2), ('R', 2), ('cc', 2), ('data', 2), ('dfgm', 2), ('frame', 2), ('num', 2), ('q', 2), ('size05', 2), ('\\xe4\\xb8\\x8b\\xe9\\x9d\\xa2', 2), ('\\xe4\\xbd\\x8d\\xe7\\xbd\\xae', 2), ('\\xe5\\x93\\x81\\xe8\\xb3\\xaa', 2), ('\\xe5\\x9c\\xa8', 2), ('\\xe5\\xa3\\x93\\xe7\\xb8\\xae\\xe7\\x8e\\x87', 2), ('\\xe5\\xb0\\x8d', 2), ('\\xe6\\x98\\xaf\\xe5\\x90\\xa6', 2), ('\\xe6\\x9c\\x89', 2), ('\\xe8\\xab\\x8b\\xe5\\x95\\x8f', 2), ('0.0092', 1), ('0.00921', 1), ('0.00993', 1), ('0.01131', 1), ('0.01274', 1), ('0.0229', 1), ('0.0245', 1), ('0.0263', 1), ('10', 1), ('111.250', 1), ('2', 1), ('3', 1), ('30.123', 1), ('4', 1), ('5', 1), ('6', 1), ('7', 1), ('8', 1), ('9', 1), ('From', 1), ('gWY8', 1), ('googleVis', 1), ('http', 1), ('int', 1), ('ppt', 1), ('ptt', 1), ('str', 1), ('\\xe2\\x80\\xbb', 1), ('\\xe2\\x97\\x86', 1), ('\\xe4\\xb8\\x80\\xe4\\xb8\\x8b', 1), ('\\xe4\\xb8\\x80\\xe4\\xba\\x9b', 1), ('\\xe4\\xb8\\x80\\xe5\\x80\\x8b', 1), ('\\xe4\\xb8\\xad\\xe8\\xa6\\x81', 1), ('\\xe4\\xb9\\x9f', 1), ('\\xe4\\xbd\\xbf\\xe7\\x94\\xa8', 1), ('\\xe4\\xbe\\x86', 1), ('\\xe5\\x80\\xbc', 1), ('\\xe5\\x85\\xa9', 1), ('\\xe5\\x85\\xa9\\xe6\\xa2\\x9d\\xe7\\xb7\\x9a', 1), ('\\xe5\\x85\\xb6\\xe4\\xbb\\x96', 1), ('\\xe5\\x88\\x9d\\xe5\\xad\\xb8\\xe8\\x80\\x85', 1), ('\\xe5\\x8f\\x96', 1), ('\\xe5\\x8f\\xaf\\xe4\\xbb\\xa5', 1), ('\\xe5\\x9c\\x96\\xe8\\xa1\\xa8', 1), ('\\xe5\\x9f\\xba\\xe7\\xa4\\x8e', 1), ('\\xe5\\xa6\\x82\\xe4\\xbd\\x95', 1), ('\\xe5\\xa6\\x82\\xe6\\x9e\\x9c', 1), ('\\xe5\\xaf\\xa6\\xe6\\xa5\\xad\\xe5\\x9d\\x8a', 1), ('\\xe5\\xb9\\xb3\\xe8\\xa1\\xa1', 1), ('\\xe5\\xbb\\xba\\xe8\\xad\\xb0', 1), ('\\xe6\\x83\\xb3\\xe5\\x88\\xb0', 1), ('\\xe6\\x83\\xb3\\xe8\\xa6\\x81', 1), ('\\xe6\\x88\\x90', 1), ('\\xe6\\x89\\xb9', 1), ('\\xe6\\x89\\xbe\\xe5\\x87\\xba', 1), ('\\xe6\\x95\\xb8\\xe5\\xad\\xb8', 1), ('\\xe6\\x96\\x9c\\xe7\\x8e\\x87', 1), ('\\xe6\\x96\\xb9\\xe5\\xbc\\x8f', 1), ('\\xe6\\x96\\xb9\\xe9\\x9d\\xa2', 1), ('\\xe6\\x9c\\x80', 1), ('\\xe6\\xa2\\x9d\\xe7\\xb7\\x9a', 1), ('\\xe6\\xa8\\xa3\\xe5\\xad\\x90', 1), ('\\xe6\\xb2\\x92', 1), ('\\xe7\\x82\\xba', 1), ('\\xe7\\x95\\xab\\xe5\\x87\\xba', 1), ('\\xe7\\x99\\xbc\\xe4\\xbf\\xa1', 1), ('\\xe7\\x9b\\xae\\xe5\\x89\\x8d', 1), ('\\xe7\\xab\\x99', 1), ('\\xe7\\xb5\\xa6\\xe6\\x88\\x91', 1), ('\\xe7\\xb5\\xb1\\xe8\\xa8\\x88', 1), ('\\xe8\\xa6\\x81', 1), ('\\xe8\\xa9\\xb1', 1), ('\\xe8\\xb8\\xa2\\xe8\\xb8\\xa2', 1), ('\\xe9\\x80\\x99', 1), ('\\xe9\\x80\\x99\\xe5\\x80\\x8b', 1), ('\\xe9\\x80\\xa3\\xe7\\xb5\\x90', 1), ('\\xe9\\x80\\xb2\\xe8\\xa1\\x8c', 1), ('\\xe9\\x95\\xb7', 1)]\n"
       ]
      }
     ],
     "prompt_number": 16
    },
    {
     "cell_type": "code",
     "collapsed": false,
     "input": [],
     "language": "python",
     "metadata": {},
     "outputs": [],
     "prompt_number": 16
    }
   ],
   "metadata": {}
  }
 ]
}