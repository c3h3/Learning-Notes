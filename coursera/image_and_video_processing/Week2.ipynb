{
 "metadata": {
  "name": ""
 },
 "nbformat": 3,
 "nbformat_minor": 0,
 "worksheets": [
  {
   "cells": [
    {
     "cell_type": "markdown",
     "metadata": {},
     "source": [
      "## Hw: write Huffman Encoder & Decoder ...\n",
      "\n",
      "-  ### [Ref] http://rosettacode.org/wiki/Huffman_coding#Python\n",
      "-  ### [Ref] http://www.youtube.com/watch?v=73cTUcv3-oI\n",
      "-  ### [Ref] http://stackoverflow.com/questions/11587044/how-can-i-create-a-tree-for-huffman-encoding-and-decoding\n",
      "-  ### [ipynb] http://nbviewer.ipython.org/github/yoavram/CS1001.py/blob/master/recitation11.ipynb\n",
      "-  ### [ipynb] http://nbviewer.ipython.org/github/dolaameng/tutorials/blob/master/word2vec-abc/poc/Huffman%20Tree.ipynb\n",
      "-  ### [ipynb] https://github.com/dolaameng/tutorials/tree/master/word2vec-abc\n",
      "-  ### [Ref] http://google-opensource.blogspot.sg/2013/08/learning-meaning-behind-words.html\n",
      "\n",
      "\n"
     ]
    },
    {
     "cell_type": "code",
     "collapsed": false,
     "input": [],
     "language": "python",
     "metadata": {},
     "outputs": []
    }
   ],
   "metadata": {}
  }
 ]
}