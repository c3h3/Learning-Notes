{
 "metadata": {
  "name": ""
 },
 "nbformat": 3,
 "nbformat_minor": 0,
 "worksheets": [
  {
   "cells": [
    {
     "cell_type": "markdown",
     "metadata": {},
     "source": [
      "# Ordering Games:\n",
      "\n",
      "-  ## $G < 0 $ : R wins \n",
      "-  ## $G > 0 $ : L wins \n",
      "-  ## $G = 0 $ : 2nd wins \n",
      "-  ## $G || 0 $ : 1st wins "
     ]
    },
    {
     "cell_type": "markdown",
     "metadata": {},
     "source": [
      "# (V3.4) Game not Number $*$: \n",
      "\n",
      "-  ## example: only one green edge in hackenbush = $*$\n",
      "-  ## [prop1] $ * || 0 $ \n",
      "-  ## [prop2] $ * + * = 0 $ "
     ]
    },
    {
     "cell_type": "markdown",
     "metadata": {},
     "source": [
      "# (V3.4) Game not Number $\\uparrow$ : \n",
      "\n",
      "-  ## $\\uparrow = \\{ 0 | * \\}$\n",
      "-  ## [prop1] $ 0 < \\uparrow < \\frac{1}{2^n}$"
     ]
    },
    {
     "cell_type": "markdown",
     "metadata": {},
     "source": [
      "# (V4.2) \n",
      "\n",
      "-  ## $ 0 = \\{|\\}$\n",
      "-  ## $ 1 = \\{0|\\}$\n",
      "-  ## $ 2 = \\{1|\\}$\n",
      "-  ## $ \\frac{1}{2} = \\{0|1\\}$\n",
      "-  ## $ \\frac{1}{4} = \\{0| \\frac{1}{2}\\}$\n"
     ]
    },
    {
     "cell_type": "markdown",
     "metadata": {},
     "source": [
      "# (V4.2) \n",
      "\n",
      "-  ## $ \\{-3|1\\} = 0 $\n",
      "-  ## $ \\{-M|+N\\} = 0 $\n"
     ]
    },
    {
     "cell_type": "markdown",
     "metadata": {},
     "source": [
      "# (V4.2) \n",
      "\n",
      "-  ## Prove: $ \\{1|4\\} = 2 $\n",
      "-  ## $ \\{1|4\\} - 2 = 0 $\n",
      "-  ## $ - 2 = \\{|-1\\} $\n",
      "-  ## Prove: $ \\{1|4\\} + \\{|-1\\} = 0 $\n",
      "-  ## If LF, $ \\{1|4\\} + \\{|-1\\} = 1 - 2 = -1 <0 $ ,  RW\n",
      "-  ## If RF, \n",
      "    *  ## Case1: $ 4 - 2 > 0 $, LW\n",
      "    *  ## Case2: $ \\{1|4\\} - 1 $, LW (why?)\n"
     ]
    },
    {
     "cell_type": "markdown",
     "metadata": {},
     "source": [
      "# (V5.1) \n",
      "\n",
      "\n",
      "- ## $\\{1,2,7 | 8,10 \\} = \\{\\max(1,2,7) | \\min(8,10)\\} = \\{ 7|8 \\} = 7\\frac{1}{2}$\n",
      "\n",
      "- ## Recall:\n",
      "    *  ### $* = \\{ 0 | 0 \\}$\n",
      "    *  ### $\\uparrow = \\{ 0 | * \\}$\n",
      "    *  ### $ 0 < \\uparrow < \\frac{1}{2^n}$\n",
      "\n",
      "- ## $\\{\\uparrow | 2 \\} - 1 = 0$\n",
      "    * ### LF: $\\uparrow - 1 < 0 $ implies RW\n",
      "    * ### RF: $ 2 - 1 > 0 $ implies LW\n",
      "\n",
      "- ## Nim Game and Reversible Moves"
     ]
    },
    {
     "cell_type": "markdown",
     "metadata": {},
     "source": [
      "# (V5.2) \n",
      "\n",
      "- ## Partial Game: Game's negative equals itself. \n",
      "- ## example nim game: $\\{*0,*1,*3,*7\\}$\n",
      "- ## Left and Right Has the same moving strategies = Partial Game\n"
     ]
    },
    {
     "cell_type": "markdown",
     "metadata": {},
     "source": [
      "# Analysis Nim Game:\n",
      "\n",
      "- ## Start from $*2 = \\{*0,*1\\}$\n",
      "- ## *$3,*7$ can reverse to $*2$\n",
      "- ## Try: $\\{*1,*0,*2,*101\\} = *3$\n",
      "\n"
     ]
    },
    {
     "cell_type": "markdown",
     "metadata": {},
     "source": [
      "# (V5.3) Reversible Moves\n",
      "\n",
      "- ## $G=\\{a,b,\\ldots | e,f,\\ldots \\}$\n",
      "\n",
      "- ## [Reverses through $a$] If there is a right move of $a$, $a^R$ with $a^R \\leq G$ in which case REPLACE $a$ BY THE LEFT MOVE OF $a^R$.\n",
      "\n",
      "- ## [Reverses through $e$] If there is a right move of $e$, $e^L$ with $e^L \\geq G$ in which case REPLACE $e$ BY THE LEFT MOVE OF $e^L$.\n",
      "\n"
     ]
    },
    {
     "cell_type": "markdown",
     "metadata": {},
     "source": [
      "# Example:\n",
      "\n",
      "-  ## $* = \\{ 0 | 0 \\}$\n",
      "-  ## $\\uparrow = \\{ 0 | * \\}$\n",
      "-  ## $\\uparrow  + \\ * = \\{ 0 | * \\} + \\{ 0 | 0 \\} = \\{ 0+*,\\uparrow+0 | * + * ,  \\uparrow + 0 \\} = \\{ *,\\uparrow | 0 ,  \\uparrow \\}$\n",
      "-  ## $\\{ *,\\uparrow | 0 ,  \\uparrow \\} = \\{ \\max(*,\\uparrow) | \\min(0 ,  \\uparrow) \\} = \\{ *,\\uparrow | 0 \\}$"
     ]
    },
    {
     "cell_type": "markdown",
     "metadata": {},
     "source": [
      "# Try to Compare with $*$ and $\\uparrow$:\n",
      "\n",
      "- ## $0 < \\uparrow$\n",
      "- ## Because $\\uparrow = \\{ 0 | * \\}$ implies $\\uparrow^R =  * $\n",
      "- ## $ * < \\uparrow + *$\n",
      "- ## If L move $\\uparrow$, R have the only choice to move $*$, ($ * = \\{0|0\\}$), Left will moves $0$\n",
      "- ## Therefore, $\\uparrow  + \\ * = \\{ *, 0 | 0 \\}$ equals \"single Hackenbush with blue over green\"\n",
      "- ## $\\uparrow  + \\ * = \\{ *, 0 | 0 \\} = \\uparrow*$ \n",
      "- ## And $ \\uparrow* + \\uparrow* = \\uparrow  + \\uparrow  + \\ * + \\ * = \\uparrow  + \\uparrow = \\Uparrow$ \n"
     ]
    },
    {
     "cell_type": "markdown",
     "metadata": {},
     "source": [
      "# (V5.4) Toads & Frogs\n",
      "\n",
      "- ## TT_FF \n",
      "- ## Toards moves right control by left (one step or jump)\n",
      "- ## Frogs moves left control by right (one step or jump)\n",
      "- ## no moves loses\n",
      "- ## $\\downarrow = - \\uparrow$\n",
      "- ## examples:\n",
      "    * ### _TTFF = $0$\n",
      "    * ### TFT_F = $*$\n",
      "    * ### T_TFF = $\\uparrow$\n",
      "    * ### TTF_F = $\\downarrow$\n",
      "- ## TT_FF = $\\{\\uparrow | \\downarrow\\} $ \n",
      "    * ### $\\uparrow = \\{ 0 | * \\} $\n",
      "    * ### $\\downarrow = \\{ * | 0 \\} $\n",
      "\n",
      "\n"
     ]
    },
    {
     "cell_type": "markdown",
     "metadata": {},
     "source": [
      "# (V6.1) \n",
      "\n",
      "- ## [Nim Sum] $*a + *b + \\ldots + *c = *d$\n",
      "- ## $*1 + *2 + *3 = *0$\n",
      "- ## $*2 + *3 + *7 = *6$\n"
     ]
    },
    {
     "cell_type": "code",
     "collapsed": false,
     "input": [],
     "language": "python",
     "metadata": {},
     "outputs": []
    }
   ],
   "metadata": {}
  }
 ]
}