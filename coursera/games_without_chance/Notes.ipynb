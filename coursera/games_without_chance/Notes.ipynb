{
 "metadata": {
  "name": ""
 },
 "nbformat": 3,
 "nbformat_minor": 0,
 "worksheets": [
  {
   "cells": [
    {
     "cell_type": "markdown",
     "metadata": {},
     "source": [
      "# Ordering Games:\n",
      "\n",
      "-  ## $G < 0 $ : R wins \n",
      "-  ## $G > 0 $ : L wins \n",
      "-  ## $G = 0 $ : 2nd wins \n",
      "-  ## $G || 0 $ : 1st wins "
     ]
    },
    {
     "cell_type": "markdown",
     "metadata": {},
     "source": [
      "# (V3.4) Game not Number $*$: \n",
      "\n",
      "-  ## example: only one green edge in hackenbush = $*$\n",
      "-  ## [prop1] $ * || 0 $ \n",
      "-  ## [prop2] $ * + * = 0 $ "
     ]
    },
    {
     "cell_type": "markdown",
     "metadata": {},
     "source": [
      "# (V3.4) Game not Number $\\uparrow$ : \n",
      "\n",
      "-  ## $\\uparrow = \\{ 0 | * \\}$\n",
      "-  ## [prop1] $ 0 < \\uparrow < \\frac{1}{2^n}$"
     ]
    },
    {
     "cell_type": "markdown",
     "metadata": {},
     "source": [
      "# (V4.2) \n",
      "\n",
      "-  ## $ 0 = \\{|\\}$\n",
      "-  ## $ 1 = \\{0|\\}$\n",
      "-  ## $ 2 = \\{1|\\}$\n",
      "-  ## $ \\frac{1}{2} = \\{0|1\\}$\n",
      "-  ## $ \\frac{1}{4} = \\{0| \\frac{1}{2}\\}$\n"
     ]
    },
    {
     "cell_type": "markdown",
     "metadata": {},
     "source": [
      "# (V4.2) \n",
      "\n",
      "-  ## $ \\{-3|1\\} = 0 $\n",
      "-  ## $ \\{-M|+N\\} = 0 $\n"
     ]
    },
    {
     "cell_type": "markdown",
     "metadata": {},
     "source": [
      "# (V4.2) \n",
      "\n",
      "-  ## Prove: $ \\{1|4\\} = 2 $\n",
      "-  ## $ \\{1|4\\} - 2 = 0 $\n",
      "-  ## $ - 2 = \\{|-1\\} $\n",
      "-  ## Prove: $ \\{1|4\\} + \\{|-1\\} = 0 $\n",
      "-  ## If LF, $ \\{1|4\\} + \\{|-1\\} = 1 - 2 = -1 <0 $ ,  RW\n",
      "-  ## If RF, \n",
      "    *  ## Case1: $ 4 - 2 > 0 $, LW\n",
      "    *  ## Case2: $ \\{1|4\\} - 1 $, LW (why?)\n"
     ]
    },
    {
     "cell_type": "code",
     "collapsed": false,
     "input": [],
     "language": "python",
     "metadata": {},
     "outputs": []
    }
   ],
   "metadata": {}
  }
 ]
}