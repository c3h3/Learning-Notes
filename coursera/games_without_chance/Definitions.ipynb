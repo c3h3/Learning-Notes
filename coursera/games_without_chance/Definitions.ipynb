{
 "metadata": {
  "name": ""
 },
 "nbformat": 3,
 "nbformat_minor": 0,
 "worksheets": [
  {
   "cells": [
    {
     "cell_type": "markdown",
     "metadata": {},
     "source": [
      "# Ordering Games:\n",
      "\n",
      "-  ## $G < 0 $ : R wins \n",
      "-  ## $G > 0 $ : L wins \n",
      "-  ## $G = 0 $ : 2nd wins \n",
      "-  ## $G || 0 $ : 1st wins "
     ]
    },
    {
     "cell_type": "markdown",
     "metadata": {},
     "source": [
      "# (V3.4) Game not Number $*$: \n",
      "\n",
      "-  ## example: only one green edge in hackenbush = $*$\n",
      "-  ## [prop1] $ * || 0 $ \n",
      "-  ## [prop2] $ * + * = 0 $ "
     ]
    },
    {
     "cell_type": "markdown",
     "metadata": {},
     "source": [
      "# (V3.4) Game not Number $\\uparrow$ : \n",
      "\n",
      "-  ## $\\uparrow = \\{ 0 | * \\}$\n",
      "-  ## [prop1] $ 0 < \\uparrow < \\frac{1}{2^n}$"
     ]
    },
    {
     "cell_type": "code",
     "collapsed": false,
     "input": [],
     "language": "python",
     "metadata": {},
     "outputs": []
    }
   ],
   "metadata": {}
  }
 ]
}